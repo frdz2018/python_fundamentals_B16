{
 "cells": [
  {
   "cell_type": "code",
   "execution_count": 2,
   "metadata": {},
   "outputs": [
    {
     "name": "stdout",
     "output_type": "stream",
     "text": [
      "['syed', 'shah', 'dravid', 'david', 'shikira', 'roy', 'almond']\n"
     ]
    }
   ],
   "source": [
    "#Understanding for loops:\n",
    "students = ['syed','shah','dravid','david','shikira','roy','almond']\n",
    "print(students)"
   ]
  },
  {
   "cell_type": "code",
   "execution_count": null,
   "metadata": {},
   "outputs": [],
   "source": [
    "#FOR LOOP\n",
    "#Syntax \n",
    "for tempvar in mainvar\n",
    "    print(tempvar)\n",
    "\n",
    "#Requirement : To split out students indivually from a list"
   ]
  },
  {
   "cell_type": "code",
   "execution_count": 3,
   "metadata": {},
   "outputs": [
    {
     "name": "stdout",
     "output_type": "stream",
     "text": [
      "syed\n",
      "shah\n",
      "dravid\n",
      "david\n",
      "shikira\n",
      "roy\n",
      "almond\n"
     ]
    }
   ],
   "source": [
    "for student in students :\n",
    "    print(student)"
   ]
  },
  {
   "cell_type": "code",
   "execution_count": 4,
   "metadata": {},
   "outputs": [
    {
     "name": "stdout",
     "output_type": "stream",
     "text": [
      "Almond\n"
     ]
    }
   ],
   "source": [
    "print(student.title())"
   ]
  },
  {
   "cell_type": "code",
   "execution_count": 5,
   "metadata": {},
   "outputs": [
    {
     "ename": "AttributeError",
     "evalue": "'list' object has no attribute 'title'",
     "output_type": "error",
     "traceback": [
      "\u001b[0;31m---------------------------------------------------------------------------\u001b[0m",
      "\u001b[0;31mAttributeError\u001b[0m                            Traceback (most recent call last)",
      "\u001b[0;32m<ipython-input-5-64353c0424e5>\u001b[0m in \u001b[0;36m<module>\u001b[0;34m\u001b[0m\n\u001b[0;32m----> 1\u001b[0;31m \u001b[0mprint\u001b[0m\u001b[0;34m(\u001b[0m\u001b[0mstudents\u001b[0m\u001b[0;34m.\u001b[0m\u001b[0mtitle\u001b[0m\u001b[0;34m(\u001b[0m\u001b[0;34m)\u001b[0m\u001b[0;34m)\u001b[0m\u001b[0;34m\u001b[0m\u001b[0;34m\u001b[0m\u001b[0m\n\u001b[0m",
      "\u001b[0;31mAttributeError\u001b[0m: 'list' object has no attribute 'title'"
     ]
    }
   ],
   "source": [
    "print(students.title())"
   ]
  },
  {
   "cell_type": "code",
   "execution_count": 7,
   "metadata": {},
   "outputs": [
    {
     "name": "stdout",
     "output_type": "stream",
     "text": [
      "Syed\n"
     ]
    }
   ],
   "source": [
    "print(students[0].title())"
   ]
  },
  {
   "cell_type": "code",
   "execution_count": 13,
   "metadata": {},
   "outputs": [
    {
     "name": "stdout",
     "output_type": "stream",
     "text": [
      "Syed\n",
      "Shah\n"
     ]
    }
   ],
   "source": [
    "print(students[0].title())\n",
    "print(students[1].title())"
   ]
  },
  {
   "cell_type": "code",
   "execution_count": 20,
   "metadata": {},
   "outputs": [
    {
     "name": "stdout",
     "output_type": "stream",
     "text": [
      "Appreciate your great work, Keep it up  syed\n",
      "Appreciate your great work, Keep it up  shah\n",
      "Appreciate your great work, Keep it up  dravid\n",
      "Appreciate your great work, Keep it up  david\n",
      "Appreciate your great work, Keep it up  shikira\n",
      "Appreciate your great work, Keep it up  roy\n",
      "Appreciate your great work, Keep it up  almond\n"
     ]
    }
   ],
   "source": [
    "## Requirement: Send appreciation message\n",
    "\n",
    "for x in students:\n",
    "    print(f\"Appreciate your great work, Keep it up  {x}\")\n"
   ]
  },
  {
   "cell_type": "code",
   "execution_count": 21,
   "metadata": {},
   "outputs": [
    {
     "name": "stdout",
     "output_type": "stream",
     "text": [
      "Appeciate you great work, keep it up syed\n",
      "Looking forward to make you expert syed.\n",
      "\n",
      "Appeciate you great work, keep it up shah\n",
      "Looking forward to make you expert shah.\n",
      "\n",
      "Appeciate you great work, keep it up dravid\n",
      "Looking forward to make you expert dravid.\n",
      "\n",
      "Appeciate you great work, keep it up david\n",
      "Looking forward to make you expert david.\n",
      "\n",
      "Appeciate you great work, keep it up shikira\n",
      "Looking forward to make you expert shikira.\n",
      "\n",
      "Appeciate you great work, keep it up roy\n",
      "Looking forward to make you expert roy.\n",
      "\n",
      "Appeciate you great work, keep it up almond\n",
      "Looking forward to make you expert almond.\n",
      "\n"
     ]
    }
   ],
   "source": [
    "#improvement\n",
    "\n",
    "for x in students:\n",
    "    print(f\"Appeciate you great work, keep it up {x}\")\n",
    "    print(f\"Looking forward to make you expert {x}.\\n\")"
   ]
  },
  {
   "cell_type": "code",
   "execution_count": 22,
   "metadata": {},
   "outputs": [
    {
     "name": "stdout",
     "output_type": "stream",
     "text": [
      "Appeciate you great work, keep it up syed\n",
      "Looking forward to make you expert syed.\n",
      "\n",
      "Appeciate you great work, keep it up shah\n",
      "Looking forward to make you expert shah.\n",
      "\n",
      "Appeciate you great work, keep it up dravid\n",
      "Looking forward to make you expert dravid.\n",
      "\n",
      "Appeciate you great work, keep it up david\n",
      "Looking forward to make you expert david.\n",
      "\n",
      "Appeciate you great work, keep it up shikira\n",
      "Looking forward to make you expert shikira.\n",
      "\n",
      "Appeciate you great work, keep it up roy\n",
      "Looking forward to make you expert roy.\n",
      "\n",
      "Appeciate you great work, keep it up almond\n",
      "Looking forward to make you expert almond.\n",
      "\n",
      "Thank you all for your hardwork and dedication in python!\n"
     ]
    }
   ],
   "source": [
    "for x in students:\n",
    "    print(f\"Appeciate you great work, keep it up {x}\")\n",
    "    print(f\"Looking forward to make you expert {x}.\\n\")\n",
    "print('Thank you all for your hardwork and dedication in python!')"
   ]
  },
  {
   "cell_type": "code",
   "execution_count": null,
   "metadata": {},
   "outputs": [],
   "source": [
    "#Making a numerical list with for loop: 1-30\n",
    "range(1,10)  ##last value is always excluded "
   ]
  },
  {
   "cell_type": "code",
   "execution_count": 23,
   "metadata": {},
   "outputs": [
    {
     "name": "stdout",
     "output_type": "stream",
     "text": [
      "1\n",
      "2\n",
      "3\n",
      "4\n",
      "5\n",
      "6\n",
      "7\n",
      "8\n",
      "9\n",
      "10\n"
     ]
    }
   ],
   "source": [
    "for value in range(1,11):\n",
    "    print(value)"
   ]
  },
  {
   "cell_type": "code",
   "execution_count": 24,
   "metadata": {},
   "outputs": [
    {
     "name": "stdout",
     "output_type": "stream",
     "text": [
      "[1, 2, 3, 4, 5, 6, 7, 8, 9, 10]\n"
     ]
    }
   ],
   "source": [
    "#we can acheive it other way too\n",
    "numbers = list(range(1,11))\n",
    "print(numbers)"
   ]
  },
  {
   "cell_type": "code",
   "execution_count": 31,
   "metadata": {},
   "outputs": [
    {
     "name": "stdout",
     "output_type": "stream",
     "text": [
      "2\n",
      "4\n",
      "6\n",
      "8\n",
      "10\n"
     ]
    }
   ],
   "source": [
    "#Print Even numbers in a given range\n",
    "#start = 2\n",
    "#end = 10\n",
    "#\n",
    "#or\n",
    "start, end = 1, 10\n",
    "#iterating each number in list\n",
    "for num in range(start, end + 1):\n",
    "    #Checking Condition \n",
    "    if num % 2 == 0:\n",
    "        print(num)"
   ]
  },
  {
   "cell_type": "code",
   "execution_count": 28,
   "metadata": {},
   "outputs": [
    {
     "name": "stdout",
     "output_type": "stream",
     "text": [
      "Enter first number in range: 1\n",
      "Enter the end of range: 10\n",
      "2 4 6 8 10 "
     ]
    }
   ],
   "source": [
    "start = int(input(\"Enter first number in range: \"))\n",
    "end = int(input(\"Enter the end of range: \"))\n",
    "for num in range(start, end + 1):\n",
    "    if num % 2 == 0:\n",
    "        print(num, end = \" \")"
   ]
  },
  {
   "cell_type": "code",
   "execution_count": null,
   "metadata": {},
   "outputs": [],
   "source": []
  }
 ],
 "metadata": {
  "kernelspec": {
   "display_name": "Python 3",
   "language": "python",
   "name": "python3"
  },
  "language_info": {
   "codemirror_mode": {
    "name": "ipython",
    "version": 3
   },
   "file_extension": ".py",
   "mimetype": "text/x-python",
   "name": "python",
   "nbconvert_exporter": "python",
   "pygments_lexer": "ipython3",
   "version": "3.7.6"
  }
 },
 "nbformat": 4,
 "nbformat_minor": 4
}
