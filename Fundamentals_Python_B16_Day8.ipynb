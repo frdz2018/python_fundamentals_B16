{
 "cells": [
  {
   "cell_type": "code",
   "execution_count": 37,
   "metadata": {},
   "outputs": [
    {
     "name": "stdout",
     "output_type": "stream",
     "text": [
      "please enter starting number: 1\n",
      "please enter end number: 6\n",
      "\n",
      "Even value\n",
      "2\n",
      "\n",
      "Odd value\n",
      "1\n",
      "3\n",
      "5\n",
      "\n",
      "Even value\n",
      "4\n",
      "\n",
      "Odd value\n",
      "1\n",
      "3\n",
      "5\n",
      "\n",
      "Even value\n",
      "6\n",
      "\n",
      "Odd value\n",
      "1\n",
      "3\n",
      "5\n"
     ]
    }
   ],
   "source": [
    "start = int(input(\"please enter starting number: \"))\n",
    "end = int(input(\"please enter end number: \"))\n",
    "for even in range(start , end + 1):\n",
    "    if even % 2 == 0:\n",
    "        print(\"\\nEven value\")\n",
    "        print(even)\n",
    "        print(\"\\nOdd value\")\n",
    "        for odd in range(start , end + 1):\n",
    "            if odd % 2 > 0:\n",
    "                print(odd)"
   ]
  },
  {
   "cell_type": "code",
   "execution_count": 39,
   "metadata": {},
   "outputs": [
    {
     "name": "stdout",
     "output_type": "stream",
     "text": [
      "please enter starting number: 1\n",
      "please enter end number: 6\n",
      "\n",
      "Even value\n",
      "2\n",
      "\n",
      "Even value\n",
      "4\n",
      "\n",
      "Even value\n",
      "6\n",
      "\n",
      "Odd value\n",
      "1\n",
      "\n",
      "Odd value\n",
      "3\n",
      "\n",
      "Odd value\n",
      "5\n"
     ]
    }
   ],
   "source": [
    "start = int(input(\"please enter starting number: \"))\n",
    "end = int(input(\"please enter end number: \"))\n",
    "for even in range(start , end + 1):\n",
    "    if even % 2 == 0:\n",
    "        print(\"\\nEven value\")\n",
    "        print(even)\n",
    "for odd in range(start , end + 1):\n",
    "    if odd % 2 > 0:\n",
    "        print(\"\\nOdd value\")\n",
    "        print(odd)"
   ]
  },
  {
   "cell_type": "code",
   "execution_count": 42,
   "metadata": {},
   "outputs": [
    {
     "name": "stdout",
     "output_type": "stream",
     "text": [
      "please enter starting number: 1\n",
      "please enter end number: 6\n",
      "2\n",
      "4\n",
      "6\n",
      "1\n",
      "3\n",
      "5\n"
     ]
    }
   ],
   "source": [
    "start = int(input(\"please enter starting number: \"))\n",
    "end = int(input(\"please enter end number: \"))\n",
    "for even in range(start , end + 1):\n",
    "    if even % 2 == 0:\n",
    "        #print(\"\\nEven value\")\n",
    "        print(even)\n",
    "for odd in range(start , end + 1):\n",
    "    if odd % 2 > 0:\n",
    "        #print(\"\\nOdd value\")\n",
    "        print(odd)"
   ]
  },
  {
   "cell_type": "code",
   "execution_count": 46,
   "metadata": {},
   "outputs": [
    {
     "name": "stdout",
     "output_type": "stream",
     "text": [
      "please enter starting number: 1\n",
      "please enter end number: 6\n",
      "\n",
      "Even numbers are:\n",
      "2\n",
      "4\n",
      "6\n",
      "\n",
      "Odd numbers are:\n",
      "1\n",
      "3\n",
      "5\n"
     ]
    }
   ],
   "source": [
    "###FINALLY I ACHIEVED THE WAY I WANTED IT TO BE PRINTED:\n",
    "\n",
    "start = int(input(\"please enter starting number: \"))\n",
    "end = int(input(\"please enter end number: \"))\n",
    "\n",
    "print(\"\\nEven numbers are:\")\n",
    "for even in range(start , end + 1):\n",
    "    if even % 2 == 0:\n",
    "        print(even)\n",
    "\n",
    "print(\"\\nOdd numbers are:\")\n",
    "for odd in range(start , end + 1):\n",
    "    if odd % 2 > 0:\n",
    "        print(odd)"
   ]
  },
  {
   "cell_type": "code",
   "execution_count": 55,
   "metadata": {},
   "outputs": [
    {
     "name": "stdout",
     "output_type": "stream",
     "text": [
      "enter the number to check: 10\n",
      "10 is not a prime number\n"
     ]
    }
   ],
   "source": [
    "#TO FIND PRIME NUMBER of particular range\n",
    "#Number greater than 1 which has no other factor than 1 , example 3,5,7,11 ---Non prime : 2,4,6,8,9\n",
    "\n",
    "#TO UNDERSTAND THIS:  LET US SAY 10 is a number =>  x will hold range from 2 to num-1(10-1=9)\n",
    "# value of num = 10\n",
    "# 10/2 , 10/3 , 10/4, 10/5, 10/6, 10/7 ,10/8 ,10/9 ===If any of the division got reminder 0 then it is not prime else prime\n",
    "\n",
    "# Let us num = 3 , then it will be divided by 3/2=reminder is above 0, value range is above 1 and below 3-1=2. Sine it has 1 reminder so it is prime\n",
    "\n",
    "num = int(input(\"enter the number to check: \"))\n",
    "\n",
    "if num > 1:\n",
    "    #Check the factors\n",
    "    for x in range(2,num):\n",
    "        if (num % x) == 0:\n",
    "            print(num, \"is not a prime number\")\n",
    "            break\n",
    "    else:\n",
    "       print(num,\"is a prime number\")"
   ]
  },
  {
   "cell_type": "code",
   "execution_count": null,
   "metadata": {},
   "outputs": [],
   "source": [
    "#Code Enhancement"
   ]
  },
  {
   "cell_type": "code",
   "execution_count": 61,
   "metadata": {},
   "outputs": [
    {
     "name": "stdout",
     "output_type": "stream",
     "text": [
      "enter the number to check: 5\n",
      "5: Is a prime number\n"
     ]
    }
   ],
   "source": [
    "num = int(input(\"enter the number to check: \"))\n",
    "\n",
    "if num > 1:\n",
    "    #Check the factors\n",
    "    for x in range(2,num):\n",
    "        if (num % x) == 0:\n",
    "            print(num, \"is not a prime number\")\n",
    "            print(x,\"times\",num//x,\"is\",num)\n",
    "            break\n",
    "    else:\n",
    "       #print(num,\"is a prime number\")   \n",
    "        print(f\"{num}: Is a prime number\")  #f string can be used to concatenate it"
   ]
  },
  {
   "cell_type": "code",
   "execution_count": null,
   "metadata": {},
   "outputs": [],
   "source": [
    "# Program for FIBNOCCI\n",
    "\n",
    "A Fibonacci sequence is the integer sequence of 0, 1, 1, 2, 3, 5, 8....\n",
    "\n",
    "The first two terms are 0 and 1. All other terms are obtained by adding the preceding two terms. This means to say the nth term is the sum of (n-1)th and (n-2)th term."
   ]
  },
  {
   "cell_type": "code",
   "execution_count": null,
   "metadata": {},
   "outputs": [],
   "source": [
    "x = int(input(\"Enter the number to upto which you want fibonaaci series\"))\n",
    "\n",
    "# first two terms\n",
    "n1 , n2 = 0,1\n",
    "count = 0\n",
    "\n",
    "#first check if number is valid\n",
    "if x <= 0:\n",
    "    print(\"Please enter the value in positive integer\")\n",
    "elif x == 1:\n",
    "    print(\"The fibonacci is upto \",x, \":\")\n",
    "    print(n1)\n",
    "else:\n",
    "    print(\"Fibonacci sequence:\")\n",
    "    while count < x:\n",
    "        print(n1)\n",
    "        nth = n1 + n2 #0+1\n",
    "        n1 = n2   #1...\n",
    "        n2 = nth  #1....\n",
    "        count += 1"
   ]
  },
  {
   "cell_type": "code",
   "execution_count": null,
   "metadata": {},
   "outputs": [],
   "source": []
  },
  {
   "cell_type": "code",
   "execution_count": null,
   "metadata": {},
   "outputs": [],
   "source": [
    "##Factorial \n",
    "#The factorial of a number is the product of all the integers from 1 to that number.\n",
    "\n",
    "#For example, the factorial of 6 is 1*2*3*4*5*6 = 720. \n",
    "#Factorial is not defined for negative numbers, and the factorial of zero is one, 0! = 1"
   ]
  },
  {
   "cell_type": "code",
   "execution_count": null,
   "metadata": {},
   "outputs": [],
   "source": [
    "#num = int(input(\"Please enter the number you want factorial of\"))\n",
    "num = 5\n",
    "factorial = 1 \n",
    "\n",
    "if num < 0:\n",
    "    print(\"Factorial not possible for negative number\")\n",
    "elif num == 0:\n",
    "    print(\"Factorial of 0 is 1\")\n",
    "else:\n",
    "   for i in range(1,num + 1):\n",
    "       factorial = factorial*i\n",
    "   print(\"The factorial of\",num,\"is\",factorial)"
   ]
  },
  {
   "cell_type": "code",
   "execution_count": null,
   "metadata": {},
   "outputs": [],
   "source": [
    "Please enter the number you want factorial of5\n",
    "The factorial of 5 is 120"
   ]
  },
  {
   "cell_type": "code",
   "execution_count": null,
   "metadata": {},
   "outputs": [],
   "source": []
  },
  {
   "cell_type": "code",
   "execution_count": null,
   "metadata": {},
   "outputs": [],
   "source": []
  },
  {
   "cell_type": "code",
   "execution_count": null,
   "metadata": {},
   "outputs": [],
   "source": []
  },
  {
   "cell_type": "code",
   "execution_count": null,
   "metadata": {},
   "outputs": [],
   "source": []
  },
  {
   "cell_type": "code",
   "execution_count": null,
   "metadata": {},
   "outputs": [],
   "source": []
  }
 ],
 "metadata": {
  "kernelspec": {
   "display_name": "Python 3",
   "language": "python",
   "name": "python3"
  },
  "language_info": {
   "codemirror_mode": {
    "name": "ipython",
    "version": 3
   },
   "file_extension": ".py",
   "mimetype": "text/x-python",
   "name": "python",
   "nbconvert_exporter": "python",
   "pygments_lexer": "ipython3",
   "version": "3.7.6"
  }
 },
 "nbformat": 4,
 "nbformat_minor": 4
}
